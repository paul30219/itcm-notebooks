{
 "cells": [
  {
   "cell_type": "markdown",
   "metadata": {},
   "source": [
    "# Lab 2\n",
    "\n",
    "1. 提交作業之前，建議可以先點選上方工具列的**Kernel**，再選擇**Restart & Run All**，檢查一下是否程式跑起來都沒有問題，最後記得儲存。\n",
    "2. 請先填上下方的姓名(name)及學號(stduent_id)再開始作答，例如：\n",
    "```python\n",
    "name = \"我的名字\"\n",
    "student_id= \"B06201000\"\n",
    "```\n",
    "3. 四個求根演算法的實作可以參考[lab-2](https://yuanyuyuan.github.io/itcm/lab-2.html)，裡面有教學影片也有範例程式可以套用。\n",
    "4. **Deadline: 10/9(Wed.)**"
   ]
  },
  {
   "cell_type": "code",
   "execution_count": 1,
   "metadata": {},
   "outputs": [],
   "source": [
    "name = \"蔡子暘\"\n",
    "student_id = \"B07201025\""
   ]
  },
  {
   "cell_type": "markdown",
   "metadata": {},
   "source": [
    "---"
   ]
  },
  {
   "cell_type": "markdown",
   "metadata": {
    "deletable": false,
    "editable": false,
    "nbgrader": {
     "cell_type": "markdown",
     "checksum": "e8a1391a275ca0d077214f9d4305137d",
     "grade": false,
     "grade_id": "cell-d66dd5494cd5b562",
     "locked": true,
     "schema_version": 3,
     "solution": false,
     "task": false
    }
   },
   "source": [
    "# Exercise 2\n",
    "\n",
    "---\n",
    "\n",
    "## Kepler's equation\n",
    "\n",
    "### In celestial mechanics, _**Kepler’s equation**_\n",
    "### $$M = E - e\\,\\sin(E)$$\n",
    "### relates the mean anomaly $M$ to the eccentric anomaly $E$ of an elliptical orbit of eccentricity $e$, where $0 < e < 1$, see [ _Wiki website_ ](https://en.wikipedia.org/wiki/Kepler's_laws_of_planetary_motion) for the details."
   ]
  },
  {
   "cell_type": "markdown",
   "metadata": {
    "deletable": false,
    "editable": false,
    "nbgrader": {
     "cell_type": "markdown",
     "checksum": "2cb086a55c7d4804722eaf4dd88f0c64",
     "grade": false,
     "grade_id": "cell-2dd58c66a383f627",
     "locked": true,
     "schema_version": 3,
     "solution": false,
     "task": false
    }
   },
   "source": [
    "---\n",
    "\n",
    "### 1. Prove that fixed-point iteration using the iteration function \n",
    "### $$g(E) = M + e\\,\\sin(E)$$\n",
    "### is convergent locally.\n",
    "\\[Hint: You may use Ostrowski’s Theorem mentioned in the lecture note.\\]"
   ]
  },
  {
   "cell_type": "markdown",
   "metadata": {
    "deletable": false,
    "editable": false,
    "nbgrader": {
     "cell_type": "markdown",
     "checksum": "45386d2e1cba8746e24c5ded3bcbb827",
     "grade": false,
     "grade_id": "cell-b925c48dd3a2393e",
     "locked": true,
     "schema_version": 3,
     "solution": false,
     "task": false
    }
   },
   "source": [
    "### proof."
   ]
  },
  {
   "cell_type": "markdown",
   "metadata": {
    "deletable": false,
    "nbgrader": {
     "cell_type": "markdown",
     "checksum": "da008de4d5bd6d0d4c5cb3c16df22b42",
     "grade": true,
     "grade_id": "prove_convergent_locally",
     "locked": false,
     "points": 3,
     "schema_version": 3,
     "solution": true,
     "task": false
    }
   },
   "source": [
    "$$|g'(E)|=e |\\cos E| \\leq e \\leq 1$$\n",
    "By Ostrowski’s Theorem, g covergent locally."
   ]
  },
  {
   "cell_type": "markdown",
   "metadata": {
    "deletable": false,
    "editable": false,
    "nbgrader": {
     "cell_type": "markdown",
     "checksum": "49804955cc142d287a25098cb8ce2e69",
     "grade": false,
     "grade_id": "cell-6d1f0f493a89e147",
     "locked": true,
     "schema_version": 3,
     "solution": false,
     "task": false
    }
   },
   "source": [
    "---\n",
    "\n",
    "\n",
    "### 2. Use the fixed-point iteration scheme in \"Q.1\" to solve Kepler’s equation for the eccentric anomaly $E$ corresponding to a mean anomaly $M = \\dfrac{2\\pi}{3}$ and an eccentricity $e = 0.5$."
   ]
  },
  {
   "cell_type": "markdown",
   "metadata": {
    "deletable": false,
    "editable": false,
    "nbgrader": {
     "cell_type": "markdown",
     "checksum": "976bb1358ebdd4ed7978d61c9aaf0618",
     "grade": false,
     "grade_id": "cell-93847550bd9ad479",
     "locked": true,
     "schema_version": 3,
     "solution": false,
     "task": false
    }
   },
   "source": [
    "---\n",
    "\n",
    "### Part 0. Import libraries"
   ]
  },
  {
   "cell_type": "code",
   "execution_count": 2,
   "metadata": {
    "deletable": false,
    "editable": false,
    "nbgrader": {
     "cell_type": "code",
     "checksum": "ea53734c1b96b8c5570d6718cd1a53a0",
     "grade": false,
     "grade_id": "cell-fcba550c4306b2dd",
     "locked": true,
     "schema_version": 3,
     "solution": false,
     "task": false
    }
   },
   "outputs": [],
   "source": [
    "import matplotlib.pyplot as plt\n",
    "import numpy as np"
   ]
  },
  {
   "cell_type": "markdown",
   "metadata": {
    "deletable": false,
    "editable": false,
    "nbgrader": {
     "cell_type": "markdown",
     "checksum": "a2c669fd4779a477714dab90ac0463cc",
     "grade": false,
     "grade_id": "cell-275b77c1ee61061e",
     "locked": true,
     "schema_version": 3,
     "solution": false,
     "task": false
    }
   },
   "source": [
    "### Part 1. Define the fixed point function"
   ]
  },
  {
   "cell_type": "code",
   "execution_count": 3,
   "metadata": {
    "deletable": false,
    "nbgrader": {
     "cell_type": "code",
     "checksum": "21cb8215e4da6740ff332638570910b7",
     "grade": false,
     "grade_id": "fixed_point_function",
     "locked": false,
     "schema_version": 3,
     "solution": true,
     "task": false
    }
   },
   "outputs": [],
   "source": [
    "def fixed_point(\n",
    "    func,\n",
    "    x_0,\n",
    "    tolerance=1e-7,\n",
    "    max_iterations=5,\n",
    "    report_history=False,\n",
    "):\n",
    "    x_n = x_0\n",
    "    num_iterations = 0\n",
    "    if report_history:\n",
    "        history = {'estimation': [], 'error': []}\n",
    "        \n",
    "    while True:\n",
    "        f_of_x_n = func(x_n)\n",
    "        error = abs(f_of_x_n - x_n)\n",
    "        \n",
    "        if report_history:\n",
    "            history['estimation'].append(x_n)\n",
    "            history['error'].append(error)\n",
    "            \n",
    "        if error < tolerance:\n",
    "            print('Found solution after', num_iterations,'iterations.')\n",
    "            if report_history:\n",
    "                return x_n, history\n",
    "            else:\n",
    "                return x_n\n",
    "        \n",
    "        if num_iterations < max_iterations:\n",
    "            num_iterations += 1\n",
    "            x_n = f_of_x_n\n",
    "            \n",
    "        else:\n",
    "            print('Terminate since reached the maximum iterations.')\n",
    "            if report_history:\n",
    "                return x_n, history\n",
    "            else:\n",
    "                return x_n\n",
    "    "
   ]
  },
  {
   "cell_type": "markdown",
   "metadata": {
    "deletable": false,
    "editable": false,
    "nbgrader": {
     "cell_type": "markdown",
     "checksum": "e59b1e302ccb6039016538d6ed8f0297",
     "grade": false,
     "grade_id": "cell-e84593af3b47154b",
     "locked": true,
     "schema_version": 3,
     "solution": false,
     "task": false
    }
   },
   "source": [
    "Test your implementaion with the assertion below."
   ]
  },
  {
   "cell_type": "code",
   "execution_count": 4,
   "metadata": {
    "deletable": false,
    "editable": false,
    "nbgrader": {
     "cell_type": "code",
     "checksum": "4beabd49bf25ee41c22a9ae30093f7e5",
     "grade": true,
     "grade_id": "test_fixed_method",
     "locked": true,
     "points": 1,
     "schema_version": 3,
     "solution": false,
     "task": false
    }
   },
   "outputs": [
    {
     "name": "stdout",
     "output_type": "stream",
     "text": [
      "Found solution after 18 iterations.\n"
     ]
    }
   ],
   "source": [
    "root = fixed_point(lambda x: x - (x**2 - 4*x + 3.5), 2, tolerance=1e-7, max_iterations=100, report_history=False)\n",
    "\n",
    "error = np.inf\n",
    "for solution in np.roots([1, -4, 3.5]):\n",
    "    if abs(root - solution) < error:\n",
    "        exact_solution = solution\n",
    "        error = abs(root - solution)\n",
    "\n",
    "assert error < 1e-7"
   ]
  },
  {
   "cell_type": "markdown",
   "metadata": {
    "deletable": false,
    "editable": false,
    "nbgrader": {
     "cell_type": "markdown",
     "checksum": "9881028f7c0d394e4a0938e410d45184",
     "grade": false,
     "grade_id": "cell-0e67fd72143e98a0",
     "locked": true,
     "schema_version": 3,
     "solution": false,
     "task": false
    }
   },
   "source": [
    "### Part 2. Assign values to variables anomaly mean \"_M_\" and eccentricity  \"_e_\".\n",
    "\n",
    "### $$M = \\frac{2\\pi}{3}\\,\\,\\,\\,\\,\\text{and}\\,\\,\\,\\,\\,e = 0.5$$"
   ]
  },
  {
   "cell_type": "code",
   "execution_count": 5,
   "metadata": {
    "deletable": false,
    "nbgrader": {
     "cell_type": "code",
     "checksum": "dd3c5176365c2ee507f0c29c19f0bf4b",
     "grade": false,
     "grade_id": "assign_values",
     "locked": false,
     "schema_version": 3,
     "solution": true,
     "task": false
    }
   },
   "outputs": [],
   "source": [
    "import math\n",
    "M =2* math.pi /3\n",
    "e =0.5"
   ]
  },
  {
   "cell_type": "code",
   "execution_count": 6,
   "metadata": {
    "deletable": false,
    "editable": false,
    "nbgrader": {
     "cell_type": "code",
     "checksum": "7e06a701df1db78df7ae5e070abeb869",
     "grade": true,
     "grade_id": "M_and_e",
     "locked": true,
     "points": 1,
     "schema_version": 3,
     "solution": false,
     "task": false
    }
   },
   "outputs": [
    {
     "name": "stdout",
     "output_type": "stream",
     "text": [
      "M = 2.0943951023931953\n",
      "e = 0.5\n"
     ]
    }
   ],
   "source": [
    "print('M =', M)\n",
    "print('e =', e)\n"
   ]
  },
  {
   "cell_type": "markdown",
   "metadata": {
    "deletable": false,
    "editable": false,
    "nbgrader": {
     "cell_type": "markdown",
     "checksum": "63f3ce08998313db9b28eb189d270588",
     "grade": false,
     "grade_id": "cell-0a7c25a5284c695c",
     "locked": true,
     "schema_version": 3,
     "solution": false,
     "task": false
    }
   },
   "source": [
    "### Part 3. Define the function of Kepler’s equation\n",
    "<br>\n",
    "\n",
    "#### _**Recall Kepler’s equation**_ :\n",
    "#### $$M = E - e\\,\\sin(E).$$\n",
    "#### So we let the function $f(E) = E - e\\,\\sin(E) - M$, then\n",
    "#### $$g(E) = E - f(E) = M + e\\,\\sin(E)$$"
   ]
  },
  {
   "cell_type": "markdown",
   "metadata": {
    "deletable": false,
    "editable": false,
    "nbgrader": {
     "cell_type": "markdown",
     "checksum": "ab11e794a2600b9c9429949d238b097f",
     "grade": false,
     "grade_id": "cell-f8cdf8ea1642716b",
     "locked": true,
     "schema_version": 3,
     "solution": false,
     "task": false
    }
   },
   "source": [
    "#### For the instance:\n",
    "\n",
    "If we want to implement \"$\\sin(x)$\", we will call `np.sin(x)` with numpy in python.\n"
   ]
  },
  {
   "cell_type": "code",
   "execution_count": 7,
   "metadata": {
    "deletable": false,
    "nbgrader": {
     "cell_type": "code",
     "checksum": "c365ed7adb374b38ddec8b7cf6ae9c2c",
     "grade": false,
     "grade_id": "kepler_equation",
     "locked": false,
     "schema_version": 3,
     "solution": true,
     "task": false
    }
   },
   "outputs": [],
   "source": [
    "def f(E):\n",
    "    return E- e*np.sin(E)-M\n",
    "\n",
    "def g(E):\n",
    "    return E-f(E)"
   ]
  },
  {
   "cell_type": "code",
   "execution_count": 8,
   "metadata": {
    "deletable": false,
    "editable": false,
    "nbgrader": {
     "cell_type": "code",
     "checksum": "b6e7b774014cfa926b5e98588210b949",
     "grade": true,
     "grade_id": "test_f_and_g",
     "locked": true,
     "points": 2,
     "schema_version": 3,
     "solution": false,
     "task": false
    }
   },
   "outputs": [
    {
     "name": "stdout",
     "output_type": "stream",
     "text": [
      "M = 2.0943951023931953\n",
      "f(0) = -2.0943951023931953\n",
      "g(0) = 2.0943951023931953\n"
     ]
    }
   ],
   "source": [
    "print('M =', M)\n",
    "\n",
    "# f(0) = -M, g(0) = M\n",
    "print('f(0) =', f(0))\n",
    "print('g(0) =', g(0))\n"
   ]
  },
  {
   "cell_type": "markdown",
   "metadata": {
    "deletable": false,
    "editable": false,
    "nbgrader": {
     "cell_type": "markdown",
     "checksum": "599312e219db9e9034392d3592a9b0c0",
     "grade": false,
     "grade_id": "cell-4730ff45c07c983d",
     "locked": true,
     "schema_version": 3,
     "solution": false,
     "task": false
    }
   },
   "source": [
    "### Part 4. Plot the function $f(E)$ and $g(E)$"
   ]
  },
  {
   "cell_type": "code",
   "execution_count": 9,
   "metadata": {
    "deletable": false,
    "editable": false,
    "nbgrader": {
     "cell_type": "code",
     "checksum": "7e2584985263dd40dd4ddbfb285b462c",
     "grade": false,
     "grade_id": "cell-f105b59710fa223d",
     "locked": true,
     "schema_version": 3,
     "solution": false,
     "task": false
    }
   },
   "outputs": [
    {
     "data": {
      "image/png": "[encoded data removed]",
      "text/plain": [
       "<Figure size 1152x288 with 1 Axes>"
      ]
     },
     "metadata": {
      "needs_background": "light"
     },
     "output_type": "display_data"
    }
   ],
   "source": [
    "fig, ax = plt.subplots(figsize=(16, 4))\n",
    "search_range = np.arange(-10, 10, 0.01)\n",
    "ax.plot(search_range, f(search_range))\n",
    "ax.set_title(r'$f(E) = E - e\\,\\sin(E) - M$')\n",
    "ax.grid(True)\n",
    "ax.axhline(y=0)\n",
    "ax.axvline(x=0)\n",
    "plt.show()"
   ]
  },
  {
   "cell_type": "code",
   "execution_count": 10,
   "metadata": {
    "deletable": false,
    "editable": false,
    "nbgrader": {
     "cell_type": "code",
     "checksum": "62f8966c0b7b4af8c0bd1eb6f511e66c",
     "grade": false,
     "grade_id": "cell-38f680027d669dec",
     "locked": true,
     "schema_version": 3,
     "solution": false,
     "task": false
    }
   },
   "outputs": [
    {
     "data": {
      "image/png": "[encoded data removed]",
      "text/plain": [
       "<Figure size 1152x288 with 1 Axes>"
      ]
     },
     "metadata": {
      "needs_background": "light"
     },
     "output_type": "display_data"
    }
   ],
   "source": [
    "fig, ax = plt.subplots(figsize=(16, 4))\n",
    "search_range = np.arange(-10, 10, 0.01)\n",
    "ax.plot(search_range, g(search_range))\n",
    "ax.set_title(r'$g(E) = M + e\\,\\sin(E)$')\n",
    "ax.grid(True)\n",
    "ax.axhline(y=0)\n",
    "plt.ylim(1,3)\n",
    "plt.show()"
   ]
  },
  {
   "cell_type": "markdown",
   "metadata": {
    "deletable": false,
    "editable": false,
    "nbgrader": {
     "cell_type": "markdown",
     "checksum": "d490e9abde9c36e965ff56c29f2de7cb",
     "grade": false,
     "grade_id": "cell-8088253f0f1444e5",
     "locked": true,
     "schema_version": 3,
     "solution": false,
     "task": false
    }
   },
   "source": [
    "### Part 5. Find the solution of \"$E$\""
   ]
  },
  {
   "cell_type": "code",
   "execution_count": 11,
   "metadata": {
    "deletable": false,
    "nbgrader": {
     "cell_type": "code",
     "checksum": "7a7dc318a1ab617c2718246422cada97",
     "grade": false,
     "grade_id": "solution_of_E",
     "locked": false,
     "schema_version": 3,
     "solution": true,
     "task": false
    }
   },
   "outputs": [
    {
     "name": "stdout",
     "output_type": "stream",
     "text": [
      "Terminate since reached the maximum iterations.\n"
     ]
    }
   ],
   "source": [
    "root = fixed_point(\n",
    "    g,\n",
    "    1,\n",
    "    tolerance=1e-7,\n",
    "    max_iterations=5,\n",
    "    report_history=False,\n",
    ")"
   ]
  },
  {
   "cell_type": "code",
   "execution_count": 12,
   "metadata": {
    "deletable": false,
    "editable": false,
    "nbgrader": {
     "cell_type": "code",
     "checksum": "b48efc0477f53015cb0f4ab5003be2a2",
     "grade": true,
     "grade_id": "the_root_of_E",
     "locked": true,
     "points": 3,
     "schema_version": 3,
     "solution": false,
     "task": false
    }
   },
   "outputs": [
    {
     "name": "stdout",
     "output_type": "stream",
     "text": [
      "My estimation of root: 2.425296086324604\n"
     ]
    }
   ],
   "source": [
    "print('My estimation of root:', root)\n"
   ]
  },
  {
   "cell_type": "markdown",
   "metadata": {
    "deletable": false,
    "editable": false,
    "nbgrader": {
     "cell_type": "markdown",
     "checksum": "dafb8c5d8594bb22e430fe10c693b0ec",
     "grade": false,
     "grade_id": "cell-89a2387b7fc10713",
     "locked": true,
     "schema_version": 3,
     "solution": false,
     "task": false
    }
   },
   "source": [
    "---\n",
    "\n",
    "### 3. An “ _exact_ ” formula for $E$ is known: $$E = M + 2 \\sum_{m=1}^\\infty \\frac{1}{m} J_m(me)\\,\\sin(mM);$$ where $J_m(x)$ is the Bessel function of the first kind of order $m$. \n",
    "\n",
    "### Use this formula to compute $E$. How many terms are needed to produce the value obtained in \"Q.2\" until convergence?"
   ]
  },
  {
   "cell_type": "markdown",
   "metadata": {
    "deletable": false,
    "editable": false,
    "nbgrader": {
     "cell_type": "markdown",
     "checksum": "bda0fc77dd1474b3835d8c87d400f996",
     "grade": false,
     "grade_id": "cell-05887e311372f74d",
     "locked": true,
     "schema_version": 3,
     "solution": false,
     "task": false
    }
   },
   "source": [
    "### Part 0. Import package"
   ]
  },
  {
   "cell_type": "code",
   "execution_count": 13,
   "metadata": {
    "deletable": false,
    "editable": false,
    "nbgrader": {
     "cell_type": "code",
     "checksum": "43e0ba6c5933602b90a69795db6fdb25",
     "grade": false,
     "grade_id": "cell-f14234e0d074ce8c",
     "locked": true,
     "schema_version": 3,
     "solution": false,
     "task": false
    }
   },
   "outputs": [],
   "source": [
    "from scipy.special import jn  # Bessel function"
   ]
  },
  {
   "cell_type": "markdown",
   "metadata": {
    "deletable": false,
    "editable": false,
    "nbgrader": {
     "cell_type": "markdown",
     "checksum": "bccbe970f17ab7742e5cc80dee9e1cfc",
     "grade": false,
     "grade_id": "cell-06c4bfda9dcc3c66",
     "locked": true,
     "schema_version": 3,
     "solution": false,
     "task": false
    }
   },
   "source": [
    "### Part 1. Define the function\n",
    "\n",
    "For the convenience, we define the function $h(m)$ as\n",
    "$$h(m) \\triangleq \\frac{2}{m} J_m(me)\\,\\sin(mM)$$"
   ]
  },
  {
   "cell_type": "markdown",
   "metadata": {
    "deletable": false,
    "editable": false,
    "nbgrader": {
     "cell_type": "markdown",
     "checksum": "61417cc48f41d5ea2c1170301d7acc34",
     "grade": false,
     "grade_id": "cell-066c2d8c30bb07ed",
     "locked": true,
     "schema_version": 3,
     "solution": false,
     "task": false
    }
   },
   "source": [
    "If we want to implement \" _**Bessel function**_ \" $J_m(x)$, we can call `jn(m,x)` in Python."
   ]
  },
  {
   "cell_type": "code",
   "execution_count": 14,
   "metadata": {
    "deletable": false,
    "nbgrader": {
     "cell_type": "code",
     "checksum": "b7eb2f7442ff768f93ed4f885e226242",
     "grade": false,
     "grade_id": "function_h",
     "locked": false,
     "schema_version": 3,
     "solution": true,
     "task": false
    }
   },
   "outputs": [],
   "source": [
    "def h(m):\n",
    "    return 2*jn(m,m*e)*np.sin(m*M)/m"
   ]
  },
  {
   "cell_type": "code",
   "execution_count": 15,
   "metadata": {
    "deletable": false,
    "editable": false,
    "nbgrader": {
     "cell_type": "code",
     "checksum": "373f48692e73a6474f71a70bd1c5aed8",
     "grade": true,
     "grade_id": "h",
     "locked": true,
     "points": 1,
     "schema_version": 3,
     "solution": false,
     "task": false
    }
   },
   "outputs": [
    {
     "name": "stdout",
     "output_type": "stream",
     "text": [
      "h(1) = 0.4196212777642318\n"
     ]
    }
   ],
   "source": [
    "# test the function of h\n",
    "print('h(1) =', h(1))\n",
    "assert round(h(1), 5) == 0.41962\n"
   ]
  },
  {
   "cell_type": "markdown",
   "metadata": {
    "deletable": false,
    "editable": false,
    "nbgrader": {
     "cell_type": "markdown",
     "checksum": "d85de17e8ca1d0422acfcd6d470b4723",
     "grade": false,
     "grade_id": "cell-d1f3811ad44000fc",
     "locked": true,
     "schema_version": 3,
     "solution": false,
     "task": false
    }
   },
   "source": [
    "### Part 2. Find how many terms we need to achieve the result obtained Q.2 in a tolerance $10^{-7}$.\n",
    "\n",
    "That is to find _num_terms_ such that\n",
    "\n",
    "$$ \\left|\\ \\text{root} - \\left(M + \\sum_{k=1}^{\\text{num_terms}} h(k)\\right)\\ \\right| < 10^{-7} $$\n",
    "\n",
    "For example, the following cell shows the implmentation with only 1 term. "
   ]
  },
  {
   "cell_type": "code",
   "execution_count": 16,
   "metadata": {
    "deletable": false,
    "editable": false,
    "nbgrader": {
     "cell_type": "code",
     "checksum": "d9c3705da423cf79eebe5d1c262762d7",
     "grade": false,
     "grade_id": "cell-8bca87d562743e69",
     "locked": true,
     "schema_version": 3,
     "solution": false,
     "task": false
    }
   },
   "outputs": [
    {
     "name": "stdout",
     "output_type": "stream",
     "text": [
      "Left hand side is the estimation of root by the fixed-point method: 2.425296086324604\n",
      "Right hand side is the approximation by the formula in only 1 term: 2.514016380157427\n",
      "The error between LHS and RHS: 0.08872029383282332\n"
     ]
    }
   ],
   "source": [
    "LHS = root\n",
    "RHS = M + h(1)\n",
    "error = abs(LHS-RHS)\n",
    "print('Left hand side is the estimation of root by the fixed-point method:', LHS)\n",
    "print('Right hand side is the approximation by the formula in only 1 term:', RHS)\n",
    "print('The error between LHS and RHS:', error)"
   ]
  },
  {
   "cell_type": "code",
   "execution_count": null,
   "metadata": {
    "deletable": false,
    "nbgrader": {
     "cell_type": "code",
     "checksum": "f615be4101f5b2f79f38198734e53d2c",
     "grade": false,
     "grade_id": "find_the_number_of_term",
     "locked": false,
     "schema_version": 3,
     "solution": true,
     "task": false
    }
   },
   "outputs": [],
   "source": [
    "LHS = root\n",
    "RHS = M + h(1)\n",
    "num_terms = 1\n",
    "tolerance = 1e-7\n",
    "while error>tolerance:\n",
    "    num_terms+=1\n",
    "    RHS+=h(num_terms)\n",
    "    error = abs(LHS-RHS)"
   ]
  },
  {
   "cell_type": "code",
   "execution_count": null,
   "metadata": {
    "deletable": false,
    "editable": false,
    "nbgrader": {
     "cell_type": "code",
     "checksum": "7d1dd827722a4ec78241c8ef7a2410c1",
     "grade": true,
     "grade_id": "number_of_term",
     "locked": true,
     "points": 3,
     "schema_version": 3,
     "solution": false,
     "task": false
    }
   },
   "outputs": [],
   "source": [
    "print('Number of terms to approximate:', num_terms)\n"
   ]
  },
  {
   "cell_type": "code",
   "execution_count": null,
   "metadata": {},
   "outputs": [],
   "source": []
  }
 ],
 "metadata": {
  "kernelspec": {
   "display_name": "Python 3",
   "language": "python",
   "name": "python3"
  },
  "language_info": {
   "codemirror_mode": {
    "name": "ipython",
    "version": 3
   },
   "file_extension": ".py",
   "mimetype": "text/x-python",
   "name": "python",
   "nbconvert_exporter": "python",
   "pygments_lexer": "ipython3",
   "version": "3.7.3"
  }
 },
 "nbformat": 4,
 "nbformat_minor": 2
}
